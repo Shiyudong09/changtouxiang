{
 "cells": [
  {
   "cell_type": "code",
   "execution_count": null,
   "metadata": {},
   "outputs": [],
   "source": [
    "from PIL import Image\n",
    "def addImg(img):\n",
    "    markImg=Image.open('timg1.jpg')\n",
    "    img.paste(markImg,(c,0))\n",
    "    img.save(path)\n",
    "path='yudong1.jpg'\n",
    "print(\"path: \"+path)\n",
    "oriImg=Image.open(path)\n",
    "b=oriImg.size\n",
    "c=b[0]-150\n",
    "addImg(oriImg)\n",
    "oriImg.show()"
   ]
  }
 ],
 "metadata": {
  "kernelspec": {
   "display_name": "Python 3",
   "language": "python",
   "name": "python3"
  },
  "language_info": {
   "codemirror_mode": {
    "name": "ipython",
    "version": 3
   },
   "file_extension": ".py",
   "mimetype": "text/x-python",
   "name": "python",
   "nbconvert_exporter": "python",
   "pygments_lexer": "ipython3",
   "version": "3.6.9"
  }
 },
 "nbformat": 4,
 "nbformat_minor": 2
}
